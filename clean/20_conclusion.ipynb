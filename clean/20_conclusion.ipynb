{
 "cells": [
  {
   "cell_type": "code",
   "execution_count": null,
   "idx_": 0,
   "metadata": {},
   "outputs": [],
   "source": [
    "#hide\n",
    "! [ -e /content ] && pip install -Uqq fastbook\n",
    "import fastbook\n",
    "fastbook.setup_book()"
   ]
  },
  {
   "cell_type": "markdown",
   "idx_": 2,
   "metadata": {},
   "source": [
    "# Concluding Thoughts"
   ]
  },
  {
   "cell_type": "code",
   "execution_count": null,
   "idx_": 6,
   "metadata": {},
   "outputs": [],
   "source": []
  }
 ],
 "metadata": {
  "jupytext": {
   "split_at_heading": true
  },
  "kernelspec": {
   "display_name": "python3",
   "language": "python",
   "name": "python3"
  }
 },
 "nbformat": 4,
 "nbformat_minor": 4,
 "path_": "20_conclusion.ipynb"
}
