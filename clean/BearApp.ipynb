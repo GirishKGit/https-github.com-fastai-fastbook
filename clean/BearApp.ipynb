{
 "cells": [
  {
   "cell_type": "code",
   "execution_count": null,
   "id": "6b678317-d189-464d-85a7-240ae2ebb137",
   "metadata": {
    "collapsed": true,
    "jupyter": {
     "outputs_hidden": true
    },
    "tags": []
   },
   "outputs": [],
   "source": [
    "# Cells that begin with ! don't contain python, is bash.\n",
    "\n",
    "!pip install voila\n",
    "!jupyter serverextension enable --sys-prefix voila "
   ]
  },
  {
   "cell_type": "code",
   "execution_count": null,
   "id": "65b8f579-d512-42b8-bd0c-50b4b5d9a6bb",
   "metadata": {},
   "outputs": [],
   "source": [
    "# Voilà runs Jupyter notebooks just like the Jupyter notebook server you are using now does, but it also does something very important: it removes all of the cell inputs, and only shows output (including ipywidgets), along with your markdown cells. So what's left is a web application! \n",
    "\n",
    "# To view your notebook as a Voilà web application, replace the word \"notebooks\" in your browser's URL with: \"voila/render\". You will see the same content as your notebook, but without any of the code cells.\n",
    "\n",
    "# um it does NOT work for me...\n",
    "# https://5d01a74577e9136a-dot-us-west1.notebooks.googleusercontent.com/lab/workspaces/auto-6/tree/fastbook/clean/BearApp.ipynb"
   ]
  },
  {
   "cell_type": "code",
   "execution_count": 10,
   "id": "3c58cac3-606d-447e-85a2-c6e1a8d9b4a3",
   "metadata": {},
   "outputs": [
    {
     "data": {
      "application/vnd.jupyter.widget-view+json": {
       "model_id": "69d44677c2a0402f8a72f7ae49a80e91",
       "version_major": 2,
       "version_minor": 0
      },
      "text/plain": [
       "VBox(children=(Label(value='LOOK AT DAT BEAR!!'), FileUpload(value={}, description='Upload'), Button(descripti…"
      ]
     },
     "metadata": {},
     "output_type": "display_data"
    }
   ],
   "source": [
    "from fastbook import *\n",
    "from fastai.vision.widgets import *\n",
    "\n",
    "path = Path()\n",
    "learn_inf = load_learner(path/'export.pkl')\n",
    "\n",
    "btn_upload = widgets.FileUpload()\n",
    "\n",
    "out_pl = widgets.Output()\n",
    "\n",
    "lbl_pred = widgets.Label()\n",
    "\n",
    "btn_run = widgets.Button(description='What is it?!')\n",
    "\n",
    "def on_click_classify(change):\n",
    "    img = PILImage.create(btn_upload.data[-1])\n",
    "    out_pl.clear_output()  # erases previous picture\n",
    "    with out_pl: display(img.to_thumb(128,128))\n",
    "    pred,pred_idx,probs = learn_inf.predict(img)\n",
    "    lbl_pred.value = f'Prediction: {pred}; Probability: {probs[pred_idx]:.04f}'\n",
    "\n",
    "btn_run.on_click(on_click_classify)\n",
    "\n",
    "VBox([widgets.Label('LOOK AT DAT BEAR!!'), \n",
    "      btn_upload, btn_run, out_pl, lbl_pred])"
   ]
  },
  {
   "cell_type": "code",
   "execution_count": null,
   "id": "bfd1ff2e-e537-4a03-a281-ca2265d9ec50",
   "metadata": {},
   "outputs": [],
   "source": [
    "TOTALLY GAVE UP ON the deployment step.  "
   ]
  }
 ],
 "metadata": {
  "environment": {
   "kernel": "python3",
   "name": "pytorch-gpu.1-10.m90",
   "type": "gcloud",
   "uri": "gcr.io/deeplearning-platform-release/pytorch-gpu.1-10:m90"
  },
  "kernelspec": {
   "display_name": "Python 3",
   "language": "python",
   "name": "python3"
  },
  "language_info": {
   "codemirror_mode": {
    "name": "ipython",
    "version": 3
   },
   "file_extension": ".py",
   "mimetype": "text/x-python",
   "name": "python",
   "nbconvert_exporter": "python",
   "pygments_lexer": "ipython3",
   "version": "3.7.12"
  }
 },
 "nbformat": 4,
 "nbformat_minor": 5
}
