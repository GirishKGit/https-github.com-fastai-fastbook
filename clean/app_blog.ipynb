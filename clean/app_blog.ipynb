{
 "cells": [
  {
   "cell_type": "markdown",
   "idx_": 1,
   "metadata": {},
   "source": [
    "# Creating a Blog"
   ]
  },
  {
   "cell_type": "markdown",
   "idx_": 3,
   "metadata": {},
   "source": [
    "## Blogging with GitHub Pages"
   ]
  },
  {
   "cell_type": "markdown",
   "idx_": 5,
   "metadata": {},
   "source": [
    "### Creating the Repository"
   ]
  },
  {
   "cell_type": "markdown",
   "idx_": 7,
   "metadata": {},
   "source": [
    "### Setting Up Your Home Page"
   ]
  },
  {
   "cell_type": "markdown",
   "idx_": 11,
   "metadata": {},
   "source": [
    "### Creating Posts"
   ]
  },
  {
   "cell_type": "markdown",
   "idx_": 17,
   "metadata": {},
   "source": [
    "### Synchronizing GitHub and Your Computer"
   ]
  },
  {
   "cell_type": "markdown",
   "idx_": 21,
   "metadata": {},
   "source": [
    "## Jupyter for Blogging"
   ]
  },
  {
   "cell_type": "code",
   "execution_count": null,
   "idx_": 23,
   "metadata": {},
   "outputs": [],
   "source": []
  }
 ],
 "metadata": {
  "jupytext": {
   "split_at_heading": true
  },
  "kernelspec": {
   "display_name": "python3",
   "language": "python",
   "name": "python3"
  }
 },
 "nbformat": 4,
 "nbformat_minor": 2,
 "path_": "app_blog.ipynb"
}
