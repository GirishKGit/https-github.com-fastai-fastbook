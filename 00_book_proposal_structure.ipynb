{
 "cells": [
  {
   "cell_type": "code",
   "execution_count": null,
   "metadata": {},
   "outputs": [],
   "source": [
    "# book proposal structure"
   ]
  },
  {
   "cell_type": "markdown",
   "metadata": {},
   "source": [
    "### 1. premise. What is the book, why you, why now, what's the end result/vision? \n",
    "\n",
    "The book aims to explore the cultivation, preservation, ethical considerations, and practical applications of entheogenic plants. Utilizing technology such as Farmbots, it emphasizes the decentralized and communal approach to preserving these sacred plants and knowledge associated with them."
   ]
  },
  {
   "cell_type": "markdown",
   "metadata": {},
   "source": [
    "### 2. market: who's the audience? Why does the audience need this information? Who are they and what do they need? \n",
    "\n",
    "The audience might include gardeners, spiritual practitioners, ethnobotanists, researchers, conservationists, and those interested in the cultural, medicinal, and spiritual significance of entheogenic plants. They need this information to understand the practicalities of growing these plants, the ethical considerations involved, and the innovative approaches to preserving and sharing this knowledge."
   ]
  },
  {
   "cell_type": "markdown",
   "metadata": {},
   "source": [
    "### 3. about the author - why are you the person to write this? Who are you, where have you been, why are you the one to write this? Some of that is in your premise, but the about the author part distills it down. \n",
    "\n",
    "I am a UC trained Master Gardner, I've worked in big and little pharma and I have intricate knowledge of the legalities and clinical trials of psychedelics.\n",
    "\n",
    "- Sacred Garden Community Churge\n",
    "- Master Gardner\n",
    "- Entheome Foundation"
   ]
  },
  {
   "cell_type": "markdown",
   "metadata": {},
   "source": [
    "### 4. Related books: \n",
    "\n",
    "this one is tricky. You have to show that related books have been successful in order to show there's a market, but also show that those related books missed something, otherwise - why do we need your book? "
   ]
  },
  {
   "cell_type": "markdown",
   "metadata": {},
   "source": [
    "### 5. Promotion by the author\n",
    "\n",
    "the promotion by author stuff you don't super need to write into at this point, but it's something to think about as you're in the dreaming stage - if this book is published, how do you see yourself spreading the word? What networks or venues or outlets would you tap? \n",
    "\n",
    "podcasts with growers, video series, workshops, community engagement through garden projects, etc."
   ]
  },
  {
   "cell_type": "markdown",
   "metadata": {},
   "source": [
    "### 6. table of contents: \n",
    "it can and will change, but mapping the structure, narrative flow from chapter to chapter, etc - super helpful. "
   ]
  },
  {
   "cell_type": "markdown",
   "metadata": {},
   "source": [
    "### 7. Chapter summaries. \n",
    "\n",
    "Basically the mini story arc for each chapter. What happens and why? "
   ]
  },
  {
   "cell_type": "markdown",
   "metadata": {},
   "source": [
    "- Introduction to Entheogenic Plants and Cultural Significance\n",
    "- Modern Technology in Ancient Practices: Farmbots and Blockchain\n",
    "- Community Gardens and Decentralized Growth\n",
    "- Ethical Considerations and Legalities\n",
    "- Conservation Efforts and Sustainability\n",
    "- Plant Profiles: In-depth chapters on selected plants.\n",
    "- Grafting, Indoor and Greenhouse Growing\n",
    "- Future Directions and Global Implications"
   ]
  }
 ],
 "metadata": {
  "language_info": {
   "name": "python"
  },
  "orig_nbformat": 4
 },
 "nbformat": 4,
 "nbformat_minor": 2
}
