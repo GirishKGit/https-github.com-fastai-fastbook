{
 "cells": [
  {
   "cell_type": "code",
   "execution_count": null,
   "metadata": {},
   "outputs": [],
   "source": [
    "#hide"
   ]
  },
  {
   "cell_type": "code",
   "execution_count": null,
   "metadata": {},
   "outputs": [],
   "source": [
    "#hide"
   ]
  },
  {
   "cell_type": "raw",
   "metadata": {},
   "source": [
    "[[chapter_intro]]"
   ]
  },
  {
   "cell_type": "markdown",
   "metadata": {},
   "source": [
    "# Introduction"
   ]
  },
  {
   "cell_type": "markdown",
   "metadata": {},
   "source": [
    "## Overview of book"
   ]
  },
  {
   "cell_type": "markdown",
   "metadata": {},
   "source": [
    "People love telling stories and people love hearing stories. We remember football backyard games and big games. We compare our heroes and rivals. We tell stories to help us understand the past. We tell stories to us to predict the future and make decisions in the present. Football analytics, at its heart, allows us to use math and  numbers to tell stories about football. Rather than arguing about who is the greatest quarterback (one of the authors says Bart Starr, the other Tom Bray), we can compare who is the greatest quarterback based upon specific metrics. Or, simply put. Who has the best numbers? For example, do the most NFL Championships make the best quarterback or most touchdowns yards? Although we will still be arguing, we are now arguing about what makes a best quarterback the greatest. Or, why do some greats defy numbers? Likewise, who should I draft for my fantasy team? What makes a player the best fit for my team?"
   ]
  },
  {
   "cell_type": "markdown",
   "metadata": {},
   "source": [
    "> : Example quote"
   ]
  },
  {
   "cell_type": "code",
   "execution_count": null,
   "metadata": {},
   "outputs": [],
   "source": []
  }
 ],
 "metadata": {
  "jupytext": {
   "split_at_heading": true
  },
  "kernelspec": {
   "display_name": "Python 3 (ipykernel)",
   "language": "python",
   "name": "python3"
  },
  "language_info": {
   "codemirror_mode": {
    "name": "ipython",
    "version": 3
   },
   "file_extension": ".py",
   "mimetype": "text/x-python",
   "name": "python",
   "nbconvert_exporter": "python",
   "pygments_lexer": "ipython3",
   "version": "3.9.5"
  }
 },
 "nbformat": 4,
 "nbformat_minor": 4
}
